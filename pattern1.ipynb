{
  "cells": [
    {
      "cell_type": "code",
      "execution_count": null,
      "metadata": {
        "id": "3lxtkxwy9Ek_",
        "colab": {
          "base_uri": "https://localhost:8080/",
          "height": 421
        },
        "outputId": "f6e13865-4deb-4f86-b382-039ef69419f5"
      },
      "outputs": [
        {
          "output_type": "stream",
          "name": "stdout",
          "text": [
            "Downloading data from https://storage.googleapis.com/tensorflow/tf-keras-datasets/mnist.npz\n",
            "11490434/11490434 [==============================] - 1s 0us/step\n",
            "(60000, 28, 28)\n",
            "(10000, 28, 28)\n"
          ]
        },
        {
          "output_type": "display_data",
          "data": {
            "text/plain": [
              "<Figure size 1000x1000 with 10 Axes>"
            ],
            "image/png": "[encoded data removed]"
          },
          "metadata": {}
        }
      ],
      "source": [
        "import numpy as np\n",
        "import cv2\n",
        "import matplotlib.pyplot as plt\n",
        "import random\n",
        "import os\n",
        "from sklearn.model_selection import train_test_split\n",
        "from sklearn.neighbors import KNeighborsClassifier\n",
        "from sklearn.metrics import accuracy_score\n",
        "from keras.datasets import mnist\n",
        "\n",
        "# Load the MNIST dataset\n",
        "(X_train, y_train), (X_test, y_test) = mnist.load_data()\n",
        "\n",
        "print(X_train.shape)\n",
        "print(X_test.shape)\n",
        "plt.figure(figsize=(10,10))\n",
        "for i in range(10):\n",
        "    plt.subplot(5,5,i+1)\n",
        "    plt.xticks([])\n",
        "    plt.yticks([])\n",
        "    plt.grid(False)\n",
        "    plt.imshow(X_train[i])\n",
        "\n",
        "    plt.xlabel(y_train[i])\n",
        "plt.show()"
      ]
    },
    {
      "cell_type": "code",
      "source": [
        "import numpy as np\n",
        "import cv2\n",
        "import matplotlib.pyplot as plt\n",
        "import random\n",
        "import os\n",
        "from sklearn.model_selection import train_test_split\n",
        "from sklearn.neighbors import KNeighborsClassifier\n",
        "from sklearn.metrics import accuracy_score\n",
        "from keras.datasets import mnist\n",
        "\n",
        "# Load the MNIST dataset\n",
        "(X_train, y_train), (X_test, y_test) = mnist.load_data()\n",
        "X_train, X_val, y_train, y_val = train_test_split(X_train, y_train, test_size=0.3, random_state=42)\n",
        "\n",
        "print(X_train.shape)\n",
        "print(X_test.shape)\n",
        "plt.figure(figsize=(10,10))\n",
        "for i in range(10):\n",
        "    plt.subplot(5,5,i+1)\n",
        "    plt.xticks([])\n",
        "    plt.yticks([])\n",
        "    plt.grid(False)\n",
        "    plt.imshow(X_train[i])\n",
        "\n",
        "    plt.xlabel(y_train[i])\n",
        "plt.show()"
      ],
      "metadata": {
        "colab": {
          "base_uri": "https://localhost:8080/",
          "height": 384
        },
        "id": "S-ojEsqJn9vX",
        "outputId": "e3b6db9c-74d9-49bb-f0a8-bbc97bd085a6"
      },
      "execution_count": null,
      "outputs": [
        {
          "output_type": "stream",
          "name": "stdout",
          "text": [
            "(42000, 28, 28)\n",
            "(10000, 28, 28)\n"
          ]
        },
        {
          "output_type": "display_data",
          "data": {
            "text/plain": [
              "<Figure size 1000x1000 with 10 Axes>"
            ],
            "image/png": "[encoded data removed]"
          },
          "metadata": {}
        }
      ]
    },
    {
      "cell_type": "code",
      "execution_count": null,
      "metadata": {
        "id": "jL3LG5Rw9ElD"
      },
      "outputs": [],
      "source": [
        "\n",
        "def get_block(images, num_blocks_x, num_blocks_y):\n",
        "\n",
        "    rows, cols = images.shape[1:]\n",
        "\n",
        "    block_size_rows = rows // num_blocks_x\n",
        "    block_size_cols = cols // num_blocks_y\n",
        "\n",
        "    images_blocks=[]\n",
        "\n",
        "    # Slice the image matrix into blocks\n",
        "\n",
        "    for image in (images):\n",
        "        sliced_blocks = []\n",
        "        for i in range(num_blocks_x):\n",
        "            for j in range(num_blocks_y):\n",
        "             block = image[i * block_size_rows: (i + 1) * block_size_rows, j * block_size_cols: (j + 1) * block_size_cols]\n",
        "             sliced_blocks.append(block)\n",
        "\n",
        "        images_blocks.append(sliced_blocks)\n",
        "    images_blocks=np.array(images_blocks)\n",
        "\n",
        "    return images_blocks"
      ]
    },
    {
      "cell_type": "code",
      "execution_count": null,
      "metadata": {
        "id": "jZcxzu4c9ElF"
      },
      "outputs": [],
      "source": [
        "\n",
        "def X_bar(img):\n",
        "\n",
        " XY=[]\n",
        " for i in range (len(img)):\n",
        "    feature_vector=[]\n",
        "    for block in range(len(img[i])):\n",
        "        x_bar=0\n",
        "        y_bar=0\n",
        "        denomenator=np.sum(img[i][block])\n",
        "\n",
        "        numerator1=0\n",
        "        for x in range(len(img[i][block])):\n",
        "            for y in range (len(img[i][block][x])):\n",
        "                numerator1=x*img[i][block][x][y]+numerator1\n",
        "\n",
        "        numerator2=0\n",
        "        for y in range(img.shape[3]):\n",
        "            for x in range (img.shape[2]):\n",
        "                numerator2=y*img[i][block][x][y]+numerator2\n",
        "\n",
        "        if denomenator != 0:\n",
        "           x_bar = numerator1 / denomenator\n",
        "           y_bar = numerator2 / denomenator\n",
        "        else:\n",
        "           x_bar = 0\n",
        "           y_bar = 0\n",
        "        feature_vector.append(x_bar)\n",
        "        feature_vector.append(y_bar)\n",
        "    feature_vector=np.array(feature_vector)\n",
        "\n",
        "    XY.append(feature_vector)\n",
        "\n",
        "\n",
        " XY=np.array(XY)\n",
        " return XY"
      ]
    },
    {
      "cell_type": "code",
      "execution_count": null,
      "metadata": {
        "id": "iay5t46D9ElI",
        "outputId": "a1a67dd4-8f5f-4efe-c16b-ca3442ea177f",
        "colab": {
          "base_uri": "https://localhost:8080/"
        }
      },
      "outputs": [
        {
          "output_type": "stream",
          "name": "stdout",
          "text": [
            "(60000, 9, 9, 9)\n",
            "(10000, 9, 9, 9)\n"
          ]
        }
      ],
      "source": [
        "\n",
        "num_blocks_x =3\n",
        "num_blocks_y =3\n",
        "X_train=get_block(X_train,num_blocks_x, num_blocks_y)\n",
        "X_test=get_block(X_test,num_blocks_x, num_blocks_y)\n",
        "print (X_train.shape)\n",
        "\n",
        "print(X_test.shape)\n"
      ]
    },
    {
      "cell_type": "code",
      "execution_count": null,
      "metadata": {
        "id": "TAcXrJEA9ElJ",
        "outputId": "f3ee9d4a-eef4-454b-a7e6-93c8413815aa",
        "colab": {
          "base_uri": "https://localhost:8080/",
          "height": 773
        }
      },
      "outputs": [
        {
          "output_type": "display_data",
          "data": {
            "text/plain": [
              "<Figure size 300x300 with 9 Axes>"
            ],
            "image/png": "[encoded data removed]"
          },
          "metadata": {}
        },
        {
          "output_type": "display_data",
          "data": {
            "text/plain": [
              "<Figure size 300x300 with 9 Axes>"
            ],
            "image/png": "[encoded data removed]"
          },
          "metadata": {}
        },
        {
          "output_type": "display_data",
          "data": {
            "text/plain": [
              "<Figure size 300x300 with 9 Axes>"
            ],
            "image/png": "[encoded data removed]"
          },
          "metadata": {}
        }
      ],
      "source": [
        "for j in range (3):\n",
        "    plt.figure(figsize=(3,3))\n",
        "    for i in range(X_train.shape[1]):\n",
        "        plt.subplot(num_blocks_x,num_blocks_y,i+1)\n",
        "        plt.xticks([])\n",
        "        plt.grid(False)\n",
        "        plt.imshow(X_train[j][i])\n",
        "    plt.show()\n"
      ]
    },
    {
      "cell_type": "code",
      "execution_count": null,
      "metadata": {
        "id": "V905k-jD9ElK",
        "outputId": "299e29a5-b621-4cf4-efe5-0e9d51071053",
        "colab": {
          "base_uri": "https://localhost:8080/"
        }
      },
      "outputs": [
        {
          "output_type": "stream",
          "name": "stdout",
          "text": [
            "(60000, 18)\n",
            "(10000, 18)\n"
          ]
        }
      ],
      "source": [
        "X_bar_train=X_bar(X_train)\n",
        "X_bar_test=X_bar(X_test)\n",
        "print(X_bar_train.shape)\n",
        "print(X_bar_test.shape)"
      ]
    },
    {
      "cell_type": "markdown",
      "metadata": {
        "id": "Tii4xdqF9ElL"
      },
      "source": [
        "# classifier SVM"
      ]
    },
    {
      "cell_type": "code",
      "execution_count": null,
      "metadata": {
        "id": "NOpH9ege9ElL",
        "outputId": "4043155d-f916-4f60-e674-b2f88dc55cd4",
        "colab": {
          "base_uri": "https://localhost:8080/"
        }
      },
      "outputs": [
        {
          "output_type": "stream",
          "name": "stdout",
          "text": [
            "Accuracy: 0.8187\n"
          ]
        }
      ],
      "source": [
        "from sklearn.svm import SVC\n",
        "from sklearn.metrics import accuracy_score\n",
        "svm_classifier = SVC(kernel='linear', C=1.0, random_state=42)\n",
        "\n",
        "# Train the SVM classifier\n",
        "svm_classifier.fit(X_bar_train, y_train)\n",
        "\n",
        "# Predict labels for test set\n",
        "y_pred = svm_classifier.predict(X_bar_test)\n",
        "\n",
        "# Calculate accuracy\n",
        "accuracy = accuracy_score(y_test, y_pred)\n",
        "print(\"Accuracy:\", accuracy)"
      ]
    },
    {
      "cell_type": "code",
      "source": [
        "from sklearn.neighbors import KNeighborsClassifier\n",
        "from sklearn.metrics import accuracy_score\n",
        "\n",
        "# Create a KNN classifier\n",
        "knn_classifier = KNeighborsClassifier(n_neighbors=5)\n",
        "\n",
        "# Train the KNN classifier\n",
        "knn_classifier.fit(X_bar_train, y_train)\n",
        "\n",
        "# Predict labels for the test set\n",
        "y_pred_knn = knn_classifier.predict(X_bar_test)\n",
        "\n",
        "# Calculate accuracy\n",
        "accuracy_knn = accuracy_score(y_test, y_pred_knn)\n",
        "print(\"KNN Accuracy:\", accuracy_knn)\n"
      ],
      "metadata": {
        "colab": {
          "base_uri": "https://localhost:8080/"
        },
        "id": "wYF-J-xljAwz",
        "outputId": "0496b860-da10-4d28-b9a1-8bca080fe6ce"
      },
      "execution_count": null,
      "outputs": [
        {
          "output_type": "stream",
          "name": "stdout",
          "text": [
            "KNN Accuracy: 0.9127\n"
          ]
        }
      ]
    },
    {
      "cell_type": "code",
      "source": [
        "num_blocks_x =2\n",
        "num_blocks_y =4\n",
        "X_train=get_block(X_train,num_blocks_x, num_blocks_y)\n",
        "X_test=get_block(X_test,num_blocks_x, num_blocks_y)\n",
        "print (X_train.shape)\n",
        "\n",
        "print(X_test.shape)\n"
      ],
      "metadata": {
        "colab": {
          "base_uri": "https://localhost:8080/"
        },
        "id": "vdNH081pkLB5",
        "outputId": "2b0dfbf4-195a-4a8b-c87f-c5805ea90b9d"
      },
      "execution_count": null,
      "outputs": [
        {
          "output_type": "stream",
          "name": "stdout",
          "text": [
            "(60000, 8, 14, 7)\n",
            "(10000, 8, 14, 7)\n"
          ]
        }
      ]
    },
    {
      "cell_type": "code",
      "source": [
        "for j in range (3):\n",
        "    plt.figure(figsize=(3,3))\n",
        "    for i in range(X_train.shape[1]):\n",
        "        plt.subplot(num_blocks_x,num_blocks_y,i+1)\n",
        "        plt.xticks([])\n",
        "        plt.grid(False)\n",
        "        plt.imshow(X_train[j][i])\n",
        "    plt.show()\n"
      ],
      "metadata": {
        "colab": {
          "base_uri": "https://localhost:8080/",
          "height": 761
        },
        "id": "JmOPpetHk1CC",
        "outputId": "7b3d5ea1-9fbe-49b3-ce43-b9588ced70fb"
      },
      "execution_count": null,
      "outputs": [
        {
          "output_type": "display_data",
          "data": {
            "text/plain": [
              "<Figure size 300x300 with 8 Axes>"
            ],
            "image/png": "[encoded data removed]"
          },
          "metadata": {}
        },
        {
          "output_type": "display_data",
          "data": {
            "text/plain": [
              "<Figure size 300x300 with 8 Axes>"
            ],
            "image/png": "[encoded data removed]"
          },
          "metadata": {}
        },
        {
          "output_type": "display_data",
          "data": {
            "text/plain": [
              "<Figure size 300x300 with 8 Axes>"
            ],
            "image/png": "[encoded data removed]"
          },
          "metadata": {}
        }
      ]
    },
    {
      "cell_type": "code",
      "source": [
        "X_bar_train=X_bar(X_train)\n",
        "X_bar_test=X_bar(X_test)\n",
        "print(X_bar_train.shape)\n",
        "print(X_bar_test.shape)"
      ],
      "metadata": {
        "colab": {
          "base_uri": "https://localhost:8080/"
        },
        "id": "J0fyBmPek5sr",
        "outputId": "ee668b11-7947-40cc-c52f-52049a8ffd1a"
      },
      "execution_count": null,
      "outputs": [
        {
          "output_type": "stream",
          "name": "stdout",
          "text": [
            "(60000, 16)\n",
            "(10000, 16)\n"
          ]
        }
      ]
    },
    {
      "cell_type": "code",
      "source": [
        "from sklearn.neighbors import KNeighborsClassifier\n",
        "from sklearn.metrics import accuracy_score\n",
        "\n",
        "# Create a KNN classifier\n",
        "knn_classifier = KNeighborsClassifier(n_neighbors=5)\n",
        "\n",
        "# Train the KNN classifier\n",
        "knn_classifier.fit(X_bar_train, y_train)\n",
        "\n",
        "# Predict labels for the test set\n",
        "y_pred_knn = knn_classifier.predict(X_bar_test)\n",
        "\n",
        "# Calculate accuracy\n",
        "accuracy_knn = accuracy_score(y_test, y_pred_knn)\n",
        "print(\"KNN Accuracy:\", accuracy_knn)\n"
      ],
      "metadata": {
        "colab": {
          "base_uri": "https://localhost:8080/"
        },
        "id": "NxJ9TskEk-JD",
        "outputId": "30521c84-aa12-4048-b3fb-bdbf436a8767"
      },
      "execution_count": null,
      "outputs": [
        {
          "output_type": "stream",
          "name": "stdout",
          "text": [
            "KNN Accuracy: 0.8927\n"
          ]
        }
      ]
    },
    {
      "cell_type": "code",
      "source": [
        "from sklearn.svm import SVC\n",
        "from sklearn.metrics import accuracy_score\n",
        "svm_classifier = SVC(kernel='linear', C=1.0, random_state=42)\n",
        "\n",
        "# Train the SVM classifier\n",
        "svm_classifier.fit(X_bar_train, y_train)\n",
        "\n",
        "# Predict labels for test set\n",
        "y_pred = svm_classifier.predict(X_bar_test)\n",
        "\n",
        "# Calculate accuracy\n",
        "accuracy = accuracy_score(y_test, y_pred)\n",
        "print(\"Accuracy:\", accuracy)"
      ],
      "metadata": {
        "colab": {
          "base_uri": "https://localhost:8080/"
        },
        "id": "Zh-sB4G6k9-6",
        "outputId": "82940739-e9ca-4d55-e1b7-728883d945f7"
      },
      "execution_count": null,
      "outputs": [
        {
          "output_type": "stream",
          "name": "stdout",
          "text": [
            "Accuracy: 0.8163\n"
          ]
        }
      ]
    }
  ],
  "metadata": {
    "kernelspec": {
      "display_name": "datascience",
      "language": "python",
      "name": "python3"
    },
    "language_info": {
      "codemirror_mode": {
        "name": "ipython",
        "version": 3
      },
      "file_extension": ".py",
      "mimetype": "text/x-python",
      "name": "python",
      "nbconvert_exporter": "python",
      "pygments_lexer": "ipython3",
      "version": "3.11.5"
    },
    "colab": {
      "provenance": []
    }
  },
  "nbformat": 4,
  "nbformat_minor": 0
}